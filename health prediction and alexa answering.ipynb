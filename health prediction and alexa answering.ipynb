{
 "cells": [
  {
   "cell_type": "code",
   "execution_count": 34,
   "id": "2b91a11e-f991-4e34-aae0-ddca9ba7b025",
   "metadata": {},
   "outputs": [
    {
     "name": "stdout",
     "output_type": "stream",
     "text": [
      "Requirement already satisfied: speechRecognition in c:\\users\\acer\\anaconda3\\lib\\site-packages (3.10.3)\n",
      "Requirement already satisfied: requests>=2.26.0 in c:\\users\\acer\\anaconda3\\lib\\site-packages (from speechRecognition) (2.31.0)\n",
      "Requirement already satisfied: typing-extensions in c:\\users\\acer\\anaconda3\\lib\\site-packages (from speechRecognition) (4.9.0)\n",
      "Requirement already satisfied: charset-normalizer<4,>=2 in c:\\users\\acer\\anaconda3\\lib\\site-packages (from requests>=2.26.0->speechRecognition) (2.0.4)\n",
      "Requirement already satisfied: idna<4,>=2.5 in c:\\users\\acer\\anaconda3\\lib\\site-packages (from requests>=2.26.0->speechRecognition) (3.4)\n",
      "Requirement already satisfied: urllib3<3,>=1.21.1 in c:\\users\\acer\\anaconda3\\lib\\site-packages (from requests>=2.26.0->speechRecognition) (2.0.7)\n",
      "Requirement already satisfied: certifi>=2017.4.17 in c:\\users\\acer\\anaconda3\\lib\\site-packages (from requests>=2.26.0->speechRecognition) (2024.2.2)\n",
      "Note: you may need to restart the kernel to use updated packages.\n"
     ]
    }
   ],
   "source": [
    "pip install speechRecognition\n"
   ]
  },
  {
   "cell_type": "code",
   "execution_count": 35,
   "id": "c55c85bf-2825-4fe8-acff-75e28c76dbf2",
   "metadata": {},
   "outputs": [
    {
     "name": "stdout",
     "output_type": "stream",
     "text": [
      "Requirement already satisfied: pyttsx3 in c:\\users\\acer\\anaconda3\\lib\\site-packages (2.90)\n",
      "Requirement already satisfied: comtypes in c:\\users\\acer\\anaconda3\\lib\\site-packages (from pyttsx3) (1.4.1)\n",
      "Requirement already satisfied: pypiwin32 in c:\\users\\acer\\anaconda3\\lib\\site-packages (from pyttsx3) (223)\n",
      "Requirement already satisfied: pywin32 in c:\\users\\acer\\anaconda3\\lib\\site-packages (from pyttsx3) (305.1)\n",
      "Note: you may need to restart the kernel to use updated packages.\n"
     ]
    }
   ],
   "source": [
    "pip install pyttsx3\n"
   ]
  },
  {
   "cell_type": "code",
   "execution_count": 36,
   "id": "394ba7c8-fb99-4373-9245-77dd4986e3fc",
   "metadata": {},
   "outputs": [
    {
     "name": "stdout",
     "output_type": "stream",
     "text": [
      "Requirement already satisfied: pywhatkit in c:\\users\\acer\\anaconda3\\lib\\site-packages (5.4)\n",
      "Requirement already satisfied: Pillow in c:\\users\\acer\\anaconda3\\lib\\site-packages (from pywhatkit) (10.2.0)\n",
      "Requirement already satisfied: pyautogui in c:\\users\\acer\\anaconda3\\lib\\site-packages (from pywhatkit) (0.9.54)\n",
      "Requirement already satisfied: requests in c:\\users\\acer\\anaconda3\\lib\\site-packages (from pywhatkit) (2.31.0)\n",
      "Requirement already satisfied: wikipedia in c:\\users\\acer\\anaconda3\\lib\\site-packages (from pywhatkit) (1.4.0)\n",
      "Requirement already satisfied: Flask in c:\\users\\acer\\anaconda3\\lib\\site-packages (from pywhatkit) (2.2.5)\n",
      "Requirement already satisfied: Werkzeug>=2.2.2 in c:\\users\\acer\\anaconda3\\lib\\site-packages (from Flask->pywhatkit) (2.2.3)\n",
      "Requirement already satisfied: Jinja2>=3.0 in c:\\users\\acer\\anaconda3\\lib\\site-packages (from Flask->pywhatkit) (3.1.3)\n",
      "Requirement already satisfied: itsdangerous>=2.0 in c:\\users\\acer\\anaconda3\\lib\\site-packages (from Flask->pywhatkit) (2.0.1)\n",
      "Requirement already satisfied: click>=8.0 in c:\\users\\acer\\anaconda3\\lib\\site-packages (from Flask->pywhatkit) (8.1.7)\n",
      "Requirement already satisfied: pymsgbox in c:\\users\\acer\\anaconda3\\lib\\site-packages (from pyautogui->pywhatkit) (1.0.9)\n",
      "Requirement already satisfied: pytweening>=1.0.4 in c:\\users\\acer\\anaconda3\\lib\\site-packages (from pyautogui->pywhatkit) (1.2.0)\n",
      "Requirement already satisfied: pyscreeze>=0.1.21 in c:\\users\\acer\\anaconda3\\lib\\site-packages (from pyautogui->pywhatkit) (0.1.30)\n",
      "Requirement already satisfied: pygetwindow>=0.0.5 in c:\\users\\acer\\anaconda3\\lib\\site-packages (from pyautogui->pywhatkit) (0.0.9)\n",
      "Requirement already satisfied: mouseinfo in c:\\users\\acer\\anaconda3\\lib\\site-packages (from pyautogui->pywhatkit) (0.1.3)\n",
      "Requirement already satisfied: charset-normalizer<4,>=2 in c:\\users\\acer\\anaconda3\\lib\\site-packages (from requests->pywhatkit) (2.0.4)\n",
      "Requirement already satisfied: idna<4,>=2.5 in c:\\users\\acer\\anaconda3\\lib\\site-packages (from requests->pywhatkit) (3.4)\n",
      "Requirement already satisfied: urllib3<3,>=1.21.1 in c:\\users\\acer\\anaconda3\\lib\\site-packages (from requests->pywhatkit) (2.0.7)\n",
      "Requirement already satisfied: certifi>=2017.4.17 in c:\\users\\acer\\anaconda3\\lib\\site-packages (from requests->pywhatkit) (2024.2.2)\n",
      "Requirement already satisfied: beautifulsoup4 in c:\\users\\acer\\anaconda3\\lib\\site-packages (from wikipedia->pywhatkit) (4.12.2)\n",
      "Requirement already satisfied: colorama in c:\\users\\acer\\anaconda3\\lib\\site-packages (from click>=8.0->Flask->pywhatkit) (0.4.6)\n",
      "Requirement already satisfied: MarkupSafe>=2.0 in c:\\users\\acer\\anaconda3\\lib\\site-packages (from Jinja2>=3.0->Flask->pywhatkit) (2.1.3)\n",
      "Requirement already satisfied: pyrect in c:\\users\\acer\\anaconda3\\lib\\site-packages (from pygetwindow>=0.0.5->pyautogui->pywhatkit) (0.2.0)\n",
      "Requirement already satisfied: soupsieve>1.2 in c:\\users\\acer\\anaconda3\\lib\\site-packages (from beautifulsoup4->wikipedia->pywhatkit) (2.5)\n",
      "Requirement already satisfied: pyperclip in c:\\users\\acer\\anaconda3\\lib\\site-packages (from mouseinfo->pyautogui->pywhatkit) (1.8.2)\n",
      "Note: you may need to restart the kernel to use updated packages.\n"
     ]
    }
   ],
   "source": [
    "pip install pywhatkit\n"
   ]
  },
  {
   "cell_type": "code",
   "execution_count": 37,
   "id": "03a1c9ad-dad0-4510-a504-b794ad2ff911",
   "metadata": {},
   "outputs": [
    {
     "name": "stdout",
     "output_type": "stream",
     "text": [
      "Requirement already satisfied: pyaudio in c:\\users\\acer\\anaconda3\\lib\\site-packages (0.2.14)\n",
      "Note: you may need to restart the kernel to use updated packages.\n"
     ]
    }
   ],
   "source": [
    "pip install pyaudio\n"
   ]
  },
  {
   "cell_type": "code",
   "execution_count": 38,
   "id": "d23e0587-173e-4d30-811f-68ac1377e3a0",
   "metadata": {},
   "outputs": [
    {
     "name": "stdout",
     "output_type": "stream",
     "text": [
      "Requirement already satisfied: wikipedia in c:\\users\\acer\\anaconda3\\lib\\site-packages (1.4.0)\n",
      "Requirement already satisfied: beautifulsoup4 in c:\\users\\acer\\anaconda3\\lib\\site-packages (from wikipedia) (4.12.2)\n",
      "Requirement already satisfied: requests<3.0.0,>=2.0.0 in c:\\users\\acer\\anaconda3\\lib\\site-packages (from wikipedia) (2.31.0)\n",
      "Requirement already satisfied: charset-normalizer<4,>=2 in c:\\users\\acer\\anaconda3\\lib\\site-packages (from requests<3.0.0,>=2.0.0->wikipedia) (2.0.4)\n",
      "Requirement already satisfied: idna<4,>=2.5 in c:\\users\\acer\\anaconda3\\lib\\site-packages (from requests<3.0.0,>=2.0.0->wikipedia) (3.4)\n",
      "Requirement already satisfied: urllib3<3,>=1.21.1 in c:\\users\\acer\\anaconda3\\lib\\site-packages (from requests<3.0.0,>=2.0.0->wikipedia) (2.0.7)\n",
      "Requirement already satisfied: certifi>=2017.4.17 in c:\\users\\acer\\anaconda3\\lib\\site-packages (from requests<3.0.0,>=2.0.0->wikipedia) (2024.2.2)\n",
      "Requirement already satisfied: soupsieve>1.2 in c:\\users\\acer\\anaconda3\\lib\\site-packages (from beautifulsoup4->wikipedia) (2.5)\n",
      "Note: you may need to restart the kernel to use updated packages.\n"
     ]
    }
   ],
   "source": [
    "pip install wikipedia\n"
   ]
  },
  {
   "cell_type": "code",
   "execution_count": 87,
   "id": "75680890-32c5-4af4-b069-7d3d1b0b1f2d",
   "metadata": {},
   "outputs": [],
   "source": [
    "import numpy as np\n",
    "import matplotlib.pyplot as plt\n",
    "import pandas as pd\n",
    "import speech_recognition as sr\n",
    "import pyttsx3\n",
    "import pywhatkit\n",
    "import pyaudio as pa \n",
    "import wikipedia\n",
    "import datetime                           \n",
    "import os            \n",
    "import webbrowser"
   ]
  },
  {
   "cell_type": "code",
   "execution_count": 88,
   "id": "6f6e7a22-c023-4a67-be42-51b3aaca8880",
   "metadata": {},
   "outputs": [],
   "source": [
    "class HyperlinkManager:\n",
    "      \n",
    "    def __init__(self, text):\n",
    "        self.text = text\n",
    "        self.text.tag_config(\"hyper\", foreground=\"blue\", underline=1)\n",
    "        self.text.tag_bind(\"hyper\", \"<Enter>\", self._enter)\n",
    "        self.text.tag_bind(\"hyper\", \"<Leave>\", self._leave)\n",
    "        self.text.tag_bind(\"hyper\", \"<Button-1>\", self._click)\n",
    "\n",
    "        self.reset()\n",
    "\n",
    "    def reset(self):\n",
    "        self.links = {}\n",
    "\n",
    "    def add(self, action):\n",
    "        # add an action to the manager.  returns tags to use in\n",
    "        # associated text widget\n",
    "        tag = \"hyper-%d\" % len(self.links)\n",
    "        self.links[tag] = action\n",
    "        return \"hyper\", tag\n",
    "\n",
    "    def _enter(self, event):\n",
    "        self.text.config(cursor=\"hand2\")\n",
    "\n",
    "    def _leave(self, event):\n",
    "        self.text.config(cursor=\"\")\n",
    "\n",
    "    def _click(self, event):\n",
    "        for tag in self.text.tag_names(CURRENT):\n",
    "            if tag[:6] == \"hyper-\":\n",
    "                self.links[tag]()\n",
    "                return\n"
   ]
  },
  {
   "cell_type": "code",
   "execution_count": 89,
   "id": "16d92ed6-78c4-42dd-9c29-8969e99be5b2",
   "metadata": {},
   "outputs": [],
   "source": [
    "# Importing the dataset\n",
    "training_dataset = pd.read_csv(r'C:\\Users\\acer\\Downloads\\Training.csv')\n",
    "test_dataset = pd.read_csv(r'C:\\Users\\acer\\Downloads\\Testing.csv')\n"
   ]
  },
  {
   "cell_type": "code",
   "execution_count": 90,
   "id": "0522ad52-06c6-4687-8079-7f49a7e961e5",
   "metadata": {},
   "outputs": [
    {
     "name": "stdout",
     "output_type": "stream",
     "text": [
      "[[1 1 1 ... 0 0 0]\n",
      " [0 1 1 ... 0 0 0]\n",
      " [1 0 1 ... 0 0 0]\n",
      " ...\n",
      " [0 0 0 ... 0 0 0]\n",
      " [0 1 0 ... 0 0 0]\n",
      " [0 1 0 ... 1 1 1]]\n"
     ]
    }
   ],
   "source": [
    "X = training_dataset.iloc[:, 0:132].values\n",
    "print(X)"
   ]
  },
  {
   "cell_type": "code",
   "execution_count": 91,
   "id": "34ed9e44-fb6d-4612-891b-ed17b490d72e",
   "metadata": {},
   "outputs": [
    {
     "data": {
      "text/plain": [
       "(4920, 132)"
      ]
     },
     "execution_count": 91,
     "metadata": {},
     "output_type": "execute_result"
    }
   ],
   "source": [
    "X.shape"
   ]
  },
  {
   "cell_type": "code",
   "execution_count": 92,
   "id": "53122667-2219-44b0-b654-e1d067461d43",
   "metadata": {},
   "outputs": [
    {
     "name": "stdout",
     "output_type": "stream",
     "text": [
      "Shape of the array: (4920, 132)\n",
      "Number of dimensions: 2\n",
      "Total number of elements: 649440\n"
     ]
    }
   ],
   "source": [
    "print(\"Shape of the array:\", X.shape)\n",
    "print(\"Number of dimensions:\", X.ndim)\n",
    "print(\"Total number of elements:\", X.size)\n"
   ]
  },
  {
   "cell_type": "code",
   "execution_count": 93,
   "id": "3fc35a13-78a7-4f0f-a722-ebd611b3f512",
   "metadata": {},
   "outputs": [
    {
     "name": "stdout",
     "output_type": "stream",
     "text": [
      "Data type of elements: int64\n"
     ]
    }
   ],
   "source": [
    "print(\"Data type of elements:\", X.dtype)"
   ]
  },
  {
   "cell_type": "code",
   "execution_count": 94,
   "id": "6f2a7b9e-3529-468f-acb8-3e3715400e43",
   "metadata": {},
   "outputs": [
    {
     "name": "stdout",
     "output_type": "stream",
     "text": [
      "Array summary:\n",
      "[[1 1 1 ... 0 0 0]\n",
      " [0 1 1 ... 0 0 0]\n",
      " [1 0 1 ... 0 0 0]\n",
      " ...\n",
      " [0 0 0 ... 0 0 0]\n",
      " [0 1 0 ... 0 0 0]\n",
      " [0 1 0 ... 1 1 1]]\n"
     ]
    }
   ],
   "source": [
    "print(\"Array summary:\")\n",
    "print(X)\n"
   ]
  },
  {
   "cell_type": "code",
   "execution_count": 95,
   "id": "7febd401-c114-47e2-bbc6-a3d331ec270c",
   "metadata": {},
   "outputs": [
    {
     "name": "stdout",
     "output_type": "stream",
     "text": [
      "['Fungal infection' 'Fungal infection' 'Fungal infection' ...\n",
      " 'Urinary tract infection' 'Psoriasis' 'Impetigo']\n"
     ]
    }
   ],
   "source": [
    "y = training_dataset.iloc[:, -1].values\n",
    "print(y)"
   ]
  },
  {
   "cell_type": "code",
   "execution_count": 96,
   "id": "eee9cea4-dbf1-4654-a83f-ed5c12e8062b",
   "metadata": {},
   "outputs": [
    {
     "name": "stdout",
     "output_type": "stream",
     "text": [
      "                                         itching  skin_rash  \\\n",
      "prognosis                                                     \n",
      "(vertigo) Paroymsal  Positional Vertigo        0          0   \n",
      "AIDS                                           0          0   \n",
      "Acne                                           0          1   \n",
      "Alcoholic hepatitis                            0          0   \n",
      "Allergy                                        0          0   \n",
      "Arthritis                                      0          0   \n",
      "Bronchial Asthma                               0          0   \n",
      "Cervical spondylosis                           0          0   \n",
      "Chicken pox                                    1          1   \n",
      "Chronic cholestasis                            1          0   \n",
      "Common Cold                                    0          0   \n",
      "Dengue                                         0          1   \n",
      "Diabetes                                       0          0   \n",
      "Dimorphic hemmorhoids(piles)                   0          0   \n",
      "Drug Reaction                                  1          1   \n",
      "Fungal infection                               1          1   \n",
      "GERD                                           0          0   \n",
      "Gastroenteritis                                0          0   \n",
      "Heart attack                                   0          0   \n",
      "Hepatitis B                                    1          0   \n",
      "Hepatitis C                                    0          0   \n",
      "Hepatitis D                                    0          0   \n",
      "Hepatitis E                                    0          0   \n",
      "Hypertension                                   0          0   \n",
      "Hyperthyroidism                                0          0   \n",
      "Hypoglycemia                                   0          0   \n",
      "Hypothyroidism                                 0          0   \n",
      "Impetigo                                       0          1   \n",
      "Jaundice                                       1          0   \n",
      "Malaria                                        0          0   \n",
      "Migraine                                       0          0   \n",
      "Osteoarthristis                                0          0   \n",
      "Paralysis (brain hemorrhage)                   0          0   \n",
      "Peptic ulcer diseae                            0          0   \n",
      "Pneumonia                                      0          0   \n",
      "Psoriasis                                      0          1   \n",
      "Tuberculosis                                   0          0   \n",
      "Typhoid                                        0          0   \n",
      "Urinary tract infection                        0          0   \n",
      "Varicose veins                                 0          0   \n",
      "hepatitis A                                    0          0   \n",
      "\n",
      "                                         nodal_skin_eruptions  \\\n",
      "prognosis                                                       \n",
      "(vertigo) Paroymsal  Positional Vertigo                     0   \n",
      "AIDS                                                        0   \n",
      "Acne                                                        0   \n",
      "Alcoholic hepatitis                                         0   \n",
      "Allergy                                                     0   \n",
      "Arthritis                                                   0   \n",
      "Bronchial Asthma                                            0   \n",
      "Cervical spondylosis                                        0   \n",
      "Chicken pox                                                 0   \n",
      "Chronic cholestasis                                         0   \n",
      "Common Cold                                                 0   \n",
      "Dengue                                                      0   \n",
      "Diabetes                                                    0   \n",
      "Dimorphic hemmorhoids(piles)                                0   \n",
      "Drug Reaction                                               0   \n",
      "Fungal infection                                            1   \n",
      "GERD                                                        0   \n",
      "Gastroenteritis                                             0   \n",
      "Heart attack                                                0   \n",
      "Hepatitis B                                                 0   \n",
      "Hepatitis C                                                 0   \n",
      "Hepatitis D                                                 0   \n",
      "Hepatitis E                                                 0   \n",
      "Hypertension                                                0   \n",
      "Hyperthyroidism                                             0   \n",
      "Hypoglycemia                                                0   \n",
      "Hypothyroidism                                              0   \n",
      "Impetigo                                                    0   \n",
      "Jaundice                                                    0   \n",
      "Malaria                                                     0   \n",
      "Migraine                                                    0   \n",
      "Osteoarthristis                                             0   \n",
      "Paralysis (brain hemorrhage)                                0   \n",
      "Peptic ulcer diseae                                         0   \n",
      "Pneumonia                                                   0   \n",
      "Psoriasis                                                   0   \n",
      "Tuberculosis                                                0   \n",
      "Typhoid                                                     0   \n",
      "Urinary tract infection                                     0   \n",
      "Varicose veins                                              0   \n",
      "hepatitis A                                                 0   \n",
      "\n",
      "                                         continuous_sneezing  shivering  \\\n",
      "prognosis                                                                 \n",
      "(vertigo) Paroymsal  Positional Vertigo                    0          0   \n",
      "AIDS                                                       0          0   \n",
      "Acne                                                       0          0   \n",
      "Alcoholic hepatitis                                        0          0   \n",
      "Allergy                                                    1          1   \n",
      "Arthritis                                                  0          0   \n",
      "Bronchial Asthma                                           0          0   \n",
      "Cervical spondylosis                                       0          0   \n",
      "Chicken pox                                                0          0   \n",
      "Chronic cholestasis                                        0          0   \n",
      "Common Cold                                                1          0   \n",
      "Dengue                                                     0          0   \n",
      "Diabetes                                                   0          0   \n",
      "Dimorphic hemmorhoids(piles)                               0          0   \n",
      "Drug Reaction                                              0          0   \n",
      "Fungal infection                                           0          0   \n",
      "GERD                                                       0          0   \n",
      "Gastroenteritis                                            0          0   \n",
      "Heart attack                                               0          0   \n",
      "Hepatitis B                                                0          0   \n",
      "Hepatitis C                                                0          0   \n",
      "Hepatitis D                                                0          0   \n",
      "Hepatitis E                                                0          0   \n",
      "Hypertension                                               0          0   \n",
      "Hyperthyroidism                                            0          0   \n",
      "Hypoglycemia                                               0          0   \n",
      "Hypothyroidism                                             0          0   \n",
      "Impetigo                                                   0          0   \n",
      "Jaundice                                                   0          0   \n",
      "Malaria                                                    0          0   \n",
      "Migraine                                                   0          0   \n",
      "Osteoarthristis                                            0          0   \n",
      "Paralysis (brain hemorrhage)                               0          0   \n",
      "Peptic ulcer diseae                                        0          0   \n",
      "Pneumonia                                                  0          0   \n",
      "Psoriasis                                                  0          0   \n",
      "Tuberculosis                                               0          0   \n",
      "Typhoid                                                    0          0   \n",
      "Urinary tract infection                                    0          0   \n",
      "Varicose veins                                             0          0   \n",
      "hepatitis A                                                0          0   \n",
      "\n",
      "                                         chills  joint_pain  stomach_pain  \\\n",
      "prognosis                                                                   \n",
      "(vertigo) Paroymsal  Positional Vertigo       0           0             0   \n",
      "AIDS                                          0           0             0   \n",
      "Acne                                          0           0             0   \n",
      "Alcoholic hepatitis                           0           0             0   \n",
      "Allergy                                       1           0             0   \n",
      "Arthritis                                     0           0             0   \n",
      "Bronchial Asthma                              0           0             0   \n",
      "Cervical spondylosis                          0           0             0   \n",
      "Chicken pox                                   0           0             0   \n",
      "Chronic cholestasis                           0           0             0   \n",
      "Common Cold                                   1           0             0   \n",
      "Dengue                                        1           1             0   \n",
      "Diabetes                                      0           0             0   \n",
      "Dimorphic hemmorhoids(piles)                  0           0             0   \n",
      "Drug Reaction                                 0           0             1   \n",
      "Fungal infection                              0           0             0   \n",
      "GERD                                          0           0             1   \n",
      "Gastroenteritis                               0           0             0   \n",
      "Heart attack                                  0           0             0   \n",
      "Hepatitis B                                   0           0             0   \n",
      "Hepatitis C                                   0           0             0   \n",
      "Hepatitis D                                   0           1             0   \n",
      "Hepatitis E                                   0           1             0   \n",
      "Hypertension                                  0           0             0   \n",
      "Hyperthyroidism                               0           0             0   \n",
      "Hypoglycemia                                  0           0             0   \n",
      "Hypothyroidism                                0           0             0   \n",
      "Impetigo                                      0           0             0   \n",
      "Jaundice                                      0           0             0   \n",
      "Malaria                                       1           0             0   \n",
      "Migraine                                      0           0             0   \n",
      "Osteoarthristis                               0           1             0   \n",
      "Paralysis (brain hemorrhage)                  0           0             0   \n",
      "Peptic ulcer diseae                           0           0             0   \n",
      "Pneumonia                                     1           0             0   \n",
      "Psoriasis                                     0           1             0   \n",
      "Tuberculosis                                  1           0             0   \n",
      "Typhoid                                       1           0             0   \n",
      "Urinary tract infection                       0           0             0   \n",
      "Varicose veins                                0           0             0   \n",
      "hepatitis A                                   0           1             0   \n",
      "\n",
      "                                         acidity  ulcers_on_tongue  ...  \\\n",
      "prognosis                                                           ...   \n",
      "(vertigo) Paroymsal  Positional Vertigo        0                 0  ...   \n",
      "AIDS                                           0                 0  ...   \n",
      "Acne                                           0                 0  ...   \n",
      "Alcoholic hepatitis                            0                 0  ...   \n",
      "Allergy                                        0                 0  ...   \n",
      "Arthritis                                      0                 0  ...   \n",
      "Bronchial Asthma                               0                 0  ...   \n",
      "Cervical spondylosis                           0                 0  ...   \n",
      "Chicken pox                                    0                 0  ...   \n",
      "Chronic cholestasis                            0                 0  ...   \n",
      "Common Cold                                    0                 0  ...   \n",
      "Dengue                                         0                 0  ...   \n",
      "Diabetes                                       0                 0  ...   \n",
      "Dimorphic hemmorhoids(piles)                   0                 0  ...   \n",
      "Drug Reaction                                  0                 0  ...   \n",
      "Fungal infection                               0                 0  ...   \n",
      "GERD                                           1                 1  ...   \n",
      "Gastroenteritis                                0                 0  ...   \n",
      "Heart attack                                   0                 0  ...   \n",
      "Hepatitis B                                    0                 0  ...   \n",
      "Hepatitis C                                    0                 0  ...   \n",
      "Hepatitis D                                    0                 0  ...   \n",
      "Hepatitis E                                    0                 0  ...   \n",
      "Hypertension                                   0                 0  ...   \n",
      "Hyperthyroidism                                0                 0  ...   \n",
      "Hypoglycemia                                   0                 0  ...   \n",
      "Hypothyroidism                                 0                 0  ...   \n",
      "Impetigo                                       0                 0  ...   \n",
      "Jaundice                                       0                 0  ...   \n",
      "Malaria                                        0                 0  ...   \n",
      "Migraine                                       1                 0  ...   \n",
      "Osteoarthristis                                0                 0  ...   \n",
      "Paralysis (brain hemorrhage)                   0                 0  ...   \n",
      "Peptic ulcer diseae                            0                 0  ...   \n",
      "Pneumonia                                      0                 0  ...   \n",
      "Psoriasis                                      0                 0  ...   \n",
      "Tuberculosis                                   0                 0  ...   \n",
      "Typhoid                                        0                 0  ...   \n",
      "Urinary tract infection                        0                 0  ...   \n",
      "Varicose veins                                 0                 0  ...   \n",
      "hepatitis A                                    0                 0  ...   \n",
      "\n",
      "                                         pus_filled_pimples  blackheads  \\\n",
      "prognosis                                                                 \n",
      "(vertigo) Paroymsal  Positional Vertigo                   0           0   \n",
      "AIDS                                                      0           0   \n",
      "Acne                                                      1           1   \n",
      "Alcoholic hepatitis                                       0           0   \n",
      "Allergy                                                   0           0   \n",
      "Arthritis                                                 0           0   \n",
      "Bronchial Asthma                                          0           0   \n",
      "Cervical spondylosis                                      0           0   \n",
      "Chicken pox                                               0           0   \n",
      "Chronic cholestasis                                       0           0   \n",
      "Common Cold                                               0           0   \n",
      "Dengue                                                    0           0   \n",
      "Diabetes                                                  0           0   \n",
      "Dimorphic hemmorhoids(piles)                              0           0   \n",
      "Drug Reaction                                             0           0   \n",
      "Fungal infection                                          0           0   \n",
      "GERD                                                      0           0   \n",
      "Gastroenteritis                                           0           0   \n",
      "Heart attack                                              0           0   \n",
      "Hepatitis B                                               0           0   \n",
      "Hepatitis C                                               0           0   \n",
      "Hepatitis D                                               0           0   \n",
      "Hepatitis E                                               0           0   \n",
      "Hypertension                                              0           0   \n",
      "Hyperthyroidism                                           0           0   \n",
      "Hypoglycemia                                              0           0   \n",
      "Hypothyroidism                                            0           0   \n",
      "Impetigo                                                  0           0   \n",
      "Jaundice                                                  0           0   \n",
      "Malaria                                                   0           0   \n",
      "Migraine                                                  0           0   \n",
      "Osteoarthristis                                           0           0   \n",
      "Paralysis (brain hemorrhage)                              0           0   \n",
      "Peptic ulcer diseae                                       0           0   \n",
      "Pneumonia                                                 0           0   \n",
      "Psoriasis                                                 0           0   \n",
      "Tuberculosis                                              0           0   \n",
      "Typhoid                                                   0           0   \n",
      "Urinary tract infection                                   0           0   \n",
      "Varicose veins                                            0           0   \n",
      "hepatitis A                                               0           0   \n",
      "\n",
      "                                         scurring  skin_peeling  \\\n",
      "prognosis                                                         \n",
      "(vertigo) Paroymsal  Positional Vertigo         0             0   \n",
      "AIDS                                            0             0   \n",
      "Acne                                            1             0   \n",
      "Alcoholic hepatitis                             0             0   \n",
      "Allergy                                         0             0   \n",
      "Arthritis                                       0             0   \n",
      "Bronchial Asthma                                0             0   \n",
      "Cervical spondylosis                            0             0   \n",
      "Chicken pox                                     0             0   \n",
      "Chronic cholestasis                             0             0   \n",
      "Common Cold                                     0             0   \n",
      "Dengue                                          0             0   \n",
      "Diabetes                                        0             0   \n",
      "Dimorphic hemmorhoids(piles)                    0             0   \n",
      "Drug Reaction                                   0             0   \n",
      "Fungal infection                                0             0   \n",
      "GERD                                            0             0   \n",
      "Gastroenteritis                                 0             0   \n",
      "Heart attack                                    0             0   \n",
      "Hepatitis B                                     0             0   \n",
      "Hepatitis C                                     0             0   \n",
      "Hepatitis D                                     0             0   \n",
      "Hepatitis E                                     0             0   \n",
      "Hypertension                                    0             0   \n",
      "Hyperthyroidism                                 0             0   \n",
      "Hypoglycemia                                    0             0   \n",
      "Hypothyroidism                                  0             0   \n",
      "Impetigo                                        0             0   \n",
      "Jaundice                                        0             0   \n",
      "Malaria                                         0             0   \n",
      "Migraine                                        0             0   \n",
      "Osteoarthristis                                 0             0   \n",
      "Paralysis (brain hemorrhage)                    0             0   \n",
      "Peptic ulcer diseae                             0             0   \n",
      "Pneumonia                                       0             0   \n",
      "Psoriasis                                       0             1   \n",
      "Tuberculosis                                    0             0   \n",
      "Typhoid                                         0             0   \n",
      "Urinary tract infection                         0             0   \n",
      "Varicose veins                                  0             0   \n",
      "hepatitis A                                     0             0   \n",
      "\n",
      "                                         silver_like_dusting  \\\n",
      "prognosis                                                      \n",
      "(vertigo) Paroymsal  Positional Vertigo                    0   \n",
      "AIDS                                                       0   \n",
      "Acne                                                       0   \n",
      "Alcoholic hepatitis                                        0   \n",
      "Allergy                                                    0   \n",
      "Arthritis                                                  0   \n",
      "Bronchial Asthma                                           0   \n",
      "Cervical spondylosis                                       0   \n",
      "Chicken pox                                                0   \n",
      "Chronic cholestasis                                        0   \n",
      "Common Cold                                                0   \n",
      "Dengue                                                     0   \n",
      "Diabetes                                                   0   \n",
      "Dimorphic hemmorhoids(piles)                               0   \n",
      "Drug Reaction                                              0   \n",
      "Fungal infection                                           0   \n",
      "GERD                                                       0   \n",
      "Gastroenteritis                                            0   \n",
      "Heart attack                                               0   \n",
      "Hepatitis B                                                0   \n",
      "Hepatitis C                                                0   \n",
      "Hepatitis D                                                0   \n",
      "Hepatitis E                                                0   \n",
      "Hypertension                                               0   \n",
      "Hyperthyroidism                                            0   \n",
      "Hypoglycemia                                               0   \n",
      "Hypothyroidism                                             0   \n",
      "Impetigo                                                   0   \n",
      "Jaundice                                                   0   \n",
      "Malaria                                                    0   \n",
      "Migraine                                                   0   \n",
      "Osteoarthristis                                            0   \n",
      "Paralysis (brain hemorrhage)                               0   \n",
      "Peptic ulcer diseae                                        0   \n",
      "Pneumonia                                                  0   \n",
      "Psoriasis                                                  1   \n",
      "Tuberculosis                                               0   \n",
      "Typhoid                                                    0   \n",
      "Urinary tract infection                                    0   \n",
      "Varicose veins                                             0   \n",
      "hepatitis A                                                0   \n",
      "\n",
      "                                         small_dents_in_nails  \\\n",
      "prognosis                                                       \n",
      "(vertigo) Paroymsal  Positional Vertigo                     0   \n",
      "AIDS                                                        0   \n",
      "Acne                                                        0   \n",
      "Alcoholic hepatitis                                         0   \n",
      "Allergy                                                     0   \n",
      "Arthritis                                                   0   \n",
      "Bronchial Asthma                                            0   \n",
      "Cervical spondylosis                                        0   \n",
      "Chicken pox                                                 0   \n",
      "Chronic cholestasis                                         0   \n",
      "Common Cold                                                 0   \n",
      "Dengue                                                      0   \n",
      "Diabetes                                                    0   \n",
      "Dimorphic hemmorhoids(piles)                                0   \n",
      "Drug Reaction                                               0   \n",
      "Fungal infection                                            0   \n",
      "GERD                                                        0   \n",
      "Gastroenteritis                                             0   \n",
      "Heart attack                                                0   \n",
      "Hepatitis B                                                 0   \n",
      "Hepatitis C                                                 0   \n",
      "Hepatitis D                                                 0   \n",
      "Hepatitis E                                                 0   \n",
      "Hypertension                                                0   \n",
      "Hyperthyroidism                                             0   \n",
      "Hypoglycemia                                                0   \n",
      "Hypothyroidism                                              0   \n",
      "Impetigo                                                    0   \n",
      "Jaundice                                                    0   \n",
      "Malaria                                                     0   \n",
      "Migraine                                                    0   \n",
      "Osteoarthristis                                             0   \n",
      "Paralysis (brain hemorrhage)                                0   \n",
      "Peptic ulcer diseae                                         0   \n",
      "Pneumonia                                                   0   \n",
      "Psoriasis                                                   1   \n",
      "Tuberculosis                                                0   \n",
      "Typhoid                                                     0   \n",
      "Urinary tract infection                                     0   \n",
      "Varicose veins                                              0   \n",
      "hepatitis A                                                 0   \n",
      "\n",
      "                                         inflammatory_nails  blister  \\\n",
      "prognosis                                                              \n",
      "(vertigo) Paroymsal  Positional Vertigo                   0        0   \n",
      "AIDS                                                      0        0   \n",
      "Acne                                                      0        0   \n",
      "Alcoholic hepatitis                                       0        0   \n",
      "Allergy                                                   0        0   \n",
      "Arthritis                                                 0        0   \n",
      "Bronchial Asthma                                          0        0   \n",
      "Cervical spondylosis                                      0        0   \n",
      "Chicken pox                                               0        0   \n",
      "Chronic cholestasis                                       0        0   \n",
      "Common Cold                                               0        0   \n",
      "Dengue                                                    0        0   \n",
      "Diabetes                                                  0        0   \n",
      "Dimorphic hemmorhoids(piles)                              0        0   \n",
      "Drug Reaction                                             0        0   \n",
      "Fungal infection                                          0        0   \n",
      "GERD                                                      0        0   \n",
      "Gastroenteritis                                           0        0   \n",
      "Heart attack                                              0        0   \n",
      "Hepatitis B                                               0        0   \n",
      "Hepatitis C                                               0        0   \n",
      "Hepatitis D                                               0        0   \n",
      "Hepatitis E                                               0        0   \n",
      "Hypertension                                              0        0   \n",
      "Hyperthyroidism                                           0        0   \n",
      "Hypoglycemia                                              0        0   \n",
      "Hypothyroidism                                            0        0   \n",
      "Impetigo                                                  0        1   \n",
      "Jaundice                                                  0        0   \n",
      "Malaria                                                   0        0   \n",
      "Migraine                                                  0        0   \n",
      "Osteoarthristis                                           0        0   \n",
      "Paralysis (brain hemorrhage)                              0        0   \n",
      "Peptic ulcer diseae                                       0        0   \n",
      "Pneumonia                                                 0        0   \n",
      "Psoriasis                                                 1        0   \n",
      "Tuberculosis                                              0        0   \n",
      "Typhoid                                                   0        0   \n",
      "Urinary tract infection                                   0        0   \n",
      "Varicose veins                                            0        0   \n",
      "hepatitis A                                               0        0   \n",
      "\n",
      "                                         red_sore_around_nose  \\\n",
      "prognosis                                                       \n",
      "(vertigo) Paroymsal  Positional Vertigo                     0   \n",
      "AIDS                                                        0   \n",
      "Acne                                                        0   \n",
      "Alcoholic hepatitis                                         0   \n",
      "Allergy                                                     0   \n",
      "Arthritis                                                   0   \n",
      "Bronchial Asthma                                            0   \n",
      "Cervical spondylosis                                        0   \n",
      "Chicken pox                                                 0   \n",
      "Chronic cholestasis                                         0   \n",
      "Common Cold                                                 0   \n",
      "Dengue                                                      0   \n",
      "Diabetes                                                    0   \n",
      "Dimorphic hemmorhoids(piles)                                0   \n",
      "Drug Reaction                                               0   \n",
      "Fungal infection                                            0   \n",
      "GERD                                                        0   \n",
      "Gastroenteritis                                             0   \n",
      "Heart attack                                                0   \n",
      "Hepatitis B                                                 0   \n",
      "Hepatitis C                                                 0   \n",
      "Hepatitis D                                                 0   \n",
      "Hepatitis E                                                 0   \n",
      "Hypertension                                                0   \n",
      "Hyperthyroidism                                             0   \n",
      "Hypoglycemia                                                0   \n",
      "Hypothyroidism                                              0   \n",
      "Impetigo                                                    1   \n",
      "Jaundice                                                    0   \n",
      "Malaria                                                     0   \n",
      "Migraine                                                    0   \n",
      "Osteoarthristis                                             0   \n",
      "Paralysis (brain hemorrhage)                                0   \n",
      "Peptic ulcer diseae                                         0   \n",
      "Pneumonia                                                   0   \n",
      "Psoriasis                                                   0   \n",
      "Tuberculosis                                                0   \n",
      "Typhoid                                                     0   \n",
      "Urinary tract infection                                     0   \n",
      "Varicose veins                                              0   \n",
      "hepatitis A                                                 0   \n",
      "\n",
      "                                         yellow_crust_ooze  \n",
      "prognosis                                                   \n",
      "(vertigo) Paroymsal  Positional Vertigo                  0  \n",
      "AIDS                                                     0  \n",
      "Acne                                                     0  \n",
      "Alcoholic hepatitis                                      0  \n",
      "Allergy                                                  0  \n",
      "Arthritis                                                0  \n",
      "Bronchial Asthma                                         0  \n",
      "Cervical spondylosis                                     0  \n",
      "Chicken pox                                              0  \n",
      "Chronic cholestasis                                      0  \n",
      "Common Cold                                              0  \n",
      "Dengue                                                   0  \n",
      "Diabetes                                                 0  \n",
      "Dimorphic hemmorhoids(piles)                             0  \n",
      "Drug Reaction                                            0  \n",
      "Fungal infection                                         0  \n",
      "GERD                                                     0  \n",
      "Gastroenteritis                                          0  \n",
      "Heart attack                                             0  \n",
      "Hepatitis B                                              0  \n",
      "Hepatitis C                                              0  \n",
      "Hepatitis D                                              0  \n",
      "Hepatitis E                                              0  \n",
      "Hypertension                                             0  \n",
      "Hyperthyroidism                                          0  \n",
      "Hypoglycemia                                             0  \n",
      "Hypothyroidism                                           0  \n",
      "Impetigo                                                 1  \n",
      "Jaundice                                                 0  \n",
      "Malaria                                                  0  \n",
      "Migraine                                                 0  \n",
      "Osteoarthristis                                          0  \n",
      "Paralysis (brain hemorrhage)                             0  \n",
      "Peptic ulcer diseae                                      0  \n",
      "Pneumonia                                                0  \n",
      "Psoriasis                                                0  \n",
      "Tuberculosis                                             0  \n",
      "Typhoid                                                  0  \n",
      "Urinary tract infection                                  0  \n",
      "Varicose veins                                           0  \n",
      "hepatitis A                                              0  \n",
      "\n",
      "[41 rows x 132 columns]\n"
     ]
    }
   ],
   "source": [
    "# Dimensionality Reduction for removing redundancies\n",
    "dimensionality_reduction = training_dataset.groupby(training_dataset['prognosis']).max()\n",
    "print(dimensionality_reduction)"
   ]
  },
  {
   "cell_type": "code",
   "execution_count": 97,
   "id": "3b6550b9-9a65-4a21-bbe4-733d2d6e90e5",
   "metadata": {},
   "outputs": [
    {
     "name": "stdout",
     "output_type": "stream",
     "text": [
      "[15 15 15 ... 38 35 27]\n"
     ]
    }
   ],
   "source": [
    "# Encoding String values to integer constants\n",
    "from sklearn.preprocessing import LabelEncoder\n",
    "labelencoder = LabelEncoder()\n",
    "y = labelencoder.fit_transform(y)\n",
    "print(y)"
   ]
  },
  {
   "cell_type": "code",
   "execution_count": 98,
   "id": "cf9e4c0a-fcb7-42b4-96d2-85f121183899",
   "metadata": {},
   "outputs": [],
   "source": [
    "# Splitting the dataset into training set and test set\n",
    "from sklearn.model_selection import train_test_split\n",
    "X_train, X_test, y_train, y_test = train_test_split(X, y, test_size = 0.25, random_state = 0)"
   ]
  },
  {
   "cell_type": "code",
   "execution_count": 99,
   "id": "15208337-3cae-4353-8cc5-0f3fa8bcb6ee",
   "metadata": {},
   "outputs": [
    {
     "data": {
      "text/html": [
       "<style>#sk-container-id-3 {color: black;background-color: white;}#sk-container-id-3 pre{padding: 0;}#sk-container-id-3 div.sk-toggleable {background-color: white;}#sk-container-id-3 label.sk-toggleable__label {cursor: pointer;display: block;width: 100%;margin-bottom: 0;padding: 0.3em;box-sizing: border-box;text-align: center;}#sk-container-id-3 label.sk-toggleable__label-arrow:before {content: \"▸\";float: left;margin-right: 0.25em;color: #696969;}#sk-container-id-3 label.sk-toggleable__label-arrow:hover:before {color: black;}#sk-container-id-3 div.sk-estimator:hover label.sk-toggleable__label-arrow:before {color: black;}#sk-container-id-3 div.sk-toggleable__content {max-height: 0;max-width: 0;overflow: hidden;text-align: left;background-color: #f0f8ff;}#sk-container-id-3 div.sk-toggleable__content pre {margin: 0.2em;color: black;border-radius: 0.25em;background-color: #f0f8ff;}#sk-container-id-3 input.sk-toggleable__control:checked~div.sk-toggleable__content {max-height: 200px;max-width: 100%;overflow: auto;}#sk-container-id-3 input.sk-toggleable__control:checked~label.sk-toggleable__label-arrow:before {content: \"▾\";}#sk-container-id-3 div.sk-estimator input.sk-toggleable__control:checked~label.sk-toggleable__label {background-color: #d4ebff;}#sk-container-id-3 div.sk-label input.sk-toggleable__control:checked~label.sk-toggleable__label {background-color: #d4ebff;}#sk-container-id-3 input.sk-hidden--visually {border: 0;clip: rect(1px 1px 1px 1px);clip: rect(1px, 1px, 1px, 1px);height: 1px;margin: -1px;overflow: hidden;padding: 0;position: absolute;width: 1px;}#sk-container-id-3 div.sk-estimator {font-family: monospace;background-color: #f0f8ff;border: 1px dotted black;border-radius: 0.25em;box-sizing: border-box;margin-bottom: 0.5em;}#sk-container-id-3 div.sk-estimator:hover {background-color: #d4ebff;}#sk-container-id-3 div.sk-parallel-item::after {content: \"\";width: 100%;border-bottom: 1px solid gray;flex-grow: 1;}#sk-container-id-3 div.sk-label:hover label.sk-toggleable__label {background-color: #d4ebff;}#sk-container-id-3 div.sk-serial::before {content: \"\";position: absolute;border-left: 1px solid gray;box-sizing: border-box;top: 0;bottom: 0;left: 50%;z-index: 0;}#sk-container-id-3 div.sk-serial {display: flex;flex-direction: column;align-items: center;background-color: white;padding-right: 0.2em;padding-left: 0.2em;position: relative;}#sk-container-id-3 div.sk-item {position: relative;z-index: 1;}#sk-container-id-3 div.sk-parallel {display: flex;align-items: stretch;justify-content: center;background-color: white;position: relative;}#sk-container-id-3 div.sk-item::before, #sk-container-id-3 div.sk-parallel-item::before {content: \"\";position: absolute;border-left: 1px solid gray;box-sizing: border-box;top: 0;bottom: 0;left: 50%;z-index: -1;}#sk-container-id-3 div.sk-parallel-item {display: flex;flex-direction: column;z-index: 1;position: relative;background-color: white;}#sk-container-id-3 div.sk-parallel-item:first-child::after {align-self: flex-end;width: 50%;}#sk-container-id-3 div.sk-parallel-item:last-child::after {align-self: flex-start;width: 50%;}#sk-container-id-3 div.sk-parallel-item:only-child::after {width: 0;}#sk-container-id-3 div.sk-dashed-wrapped {border: 1px dashed gray;margin: 0 0.4em 0.5em 0.4em;box-sizing: border-box;padding-bottom: 0.4em;background-color: white;}#sk-container-id-3 div.sk-label label {font-family: monospace;font-weight: bold;display: inline-block;line-height: 1.2em;}#sk-container-id-3 div.sk-label-container {text-align: center;}#sk-container-id-3 div.sk-container {/* jupyter's `normalize.less` sets `[hidden] { display: none; }` but bootstrap.min.css set `[hidden] { display: none !important; }` so we also need the `!important` here to be able to override the default hidden behavior on the sphinx rendered scikit-learn.org. See: https://github.com/scikit-learn/scikit-learn/issues/21755 */display: inline-block !important;position: relative;}#sk-container-id-3 div.sk-text-repr-fallback {display: none;}</style><div id=\"sk-container-id-3\" class=\"sk-top-container\"><div class=\"sk-text-repr-fallback\"><pre>DecisionTreeClassifier()</pre><b>In a Jupyter environment, please rerun this cell to show the HTML representation or trust the notebook. <br />On GitHub, the HTML representation is unable to render, please try loading this page with nbviewer.org.</b></div><div class=\"sk-container\" hidden><div class=\"sk-item\"><div class=\"sk-estimator sk-toggleable\"><input class=\"sk-toggleable__control sk-hidden--visually\" id=\"sk-estimator-id-3\" type=\"checkbox\" checked><label for=\"sk-estimator-id-3\" class=\"sk-toggleable__label sk-toggleable__label-arrow\">DecisionTreeClassifier</label><div class=\"sk-toggleable__content\"><pre>DecisionTreeClassifier()</pre></div></div></div></div></div>"
      ],
      "text/plain": [
       "DecisionTreeClassifier()"
      ]
     },
     "execution_count": 99,
     "metadata": {},
     "output_type": "execute_result"
    }
   ],
   "source": [
    "# Implementing the Decision Tree Classifier\n",
    "from sklearn.tree import DecisionTreeClassifier\n",
    "classifier = DecisionTreeClassifier()\n",
    "classifier.fit(X_train, y_train)"
   ]
  },
  {
   "cell_type": "code",
   "execution_count": 100,
   "id": "352aa8eb-05d0-4c17-965a-a2e745935a0a",
   "metadata": {},
   "outputs": [],
   "source": [
    "# Saving the information of columns\n",
    "cols     = training_dataset.columns\n",
    "cols     = cols[:-1]"
   ]
  },
  {
   "cell_type": "code",
   "execution_count": 101,
   "id": "fa7a303d-2ac2-4d21-b0ae-569398cd746d",
   "metadata": {},
   "outputs": [],
   "source": [
    "# Checking the Important features\n",
    "importances = classifier.feature_importances_\n",
    "indices = np.argsort(importances)[::-1]\n",
    "features = cols"
   ]
  },
  {
   "cell_type": "code",
   "execution_count": 102,
   "id": "02307ddc-86ee-4278-b1ba-88b707117041",
   "metadata": {},
   "outputs": [],
   "source": [
    "from sklearn.tree import _tree"
   ]
  },
  {
   "cell_type": "code",
   "execution_count": 103,
   "id": "58f86a69-65f4-4b32-a3c5-92a8976170e6",
   "metadata": {},
   "outputs": [],
   "source": [
    "def execute_bot():\n",
    "\n",
    "    print(\"Please reply with yes/Yes or no/No for the following symptoms\") \n",
    "    def print_disease(node):\n",
    "        #print(node)\n",
    "        node = node[0]\n",
    "        #print(len(node))\n",
    "        val  = node.nonzero() \n",
    "        #print(val)\n",
    "        disease = labelencoder.inverse_transform(val[0])\n",
    "        return disease\n",
    "    def tree_to_code(tree, feature_names):\n",
    "        tree_ = tree.tree_\n",
    "        #print(tree_)\n",
    "        feature_name = [\n",
    "            feature_names[i] if i != _tree.TREE_UNDEFINED else \"undefined!\"\n",
    "            for i in tree_.feature\n",
    "        ]\n",
    "        #print(\"def tree({}):\".format(\", \".join(feature_names)))\n",
    "        symptoms_present = []\n",
    "        def recurse(node, depth):\n",
    "            indent = \"  \" * depth\n",
    "            if tree_.feature[node] != _tree.TREE_UNDEFINED:\n",
    "                name = feature_name[node]\n",
    "                threshold = tree_.threshold[node]\n",
    "                print(name + \" ?\")\n",
    "                ans = input()\n",
    "                ans = ans.lower()\n",
    "                if ans == 'yes':\n",
    "                    val = 1\n",
    "                else:\n",
    "                    val = 0\n",
    "                if  val <= threshold:\n",
    "                    recurse(tree_.children_left[node], depth + 1)\n",
    "                else:\n",
    "                    symptoms_present.append(name)\n",
    "                    recurse(tree_.children_right[node], depth + 1)\n",
    "            else:\n",
    "                present_disease = print_disease(tree_.value[node])\n",
    "                print( \"You may have \" +  present_disease )\n",
    "                print()\n",
    "                red_cols = dimensionality_reduction.columns \n",
    "                symptoms_given = red_cols[dimensionality_reduction.loc[present_disease].values[0].nonzero()]\n",
    "                print(\"symptoms present  \" + str(list(symptoms_present)))\n",
    "                print()\n",
    "                print(\"symptoms given \"  +  str(list(symptoms_given)) )  \n",
    "                print()\n",
    "                confidence_level = (1.0*len(symptoms_present))/len(symptoms_given)\n",
    "                print(\"confidence level is \" + str(confidence_level))\n",
    "                print()\n",
    "                print('The model suggests:')\n",
    "                print()\n",
    "                row = doctors[doctors['disease'] == present_disease[1]]\n",
    "                print('Consult ', str(row['name'].values))\n",
    "                print()\n",
    "                print('Visit ', str(row['link'].values))\n",
    "                print(present_disease[0])\n",
    "                \n",
    "    \n",
    "        recurse(0, 1)\n",
    "    \n",
    "    tree_to_code(classifier,cols)\n"
   ]
  },
  {
   "cell_type": "code",
   "execution_count": 112,
   "id": "95bc089c-6318-4ceb-96d8-48cbb763e576",
   "metadata": {},
   "outputs": [
    {
     "name": "stderr",
     "output_type": "stream",
     "text": [
      "C:\\Users\\acer\\AppData\\Local\\Temp\\ipykernel_18480\\3674935527.py:1: DtypeWarning: Columns (0,1,2,3,4,5,6,7,8,9,10,11,12,13,14,15,16,17,18,19,20,21,22,23,24,25,26,27,28,29,30,31,32,33,34,35,36,37,38,39,40,41,42,43,44,45,46,47,48,49,50,51,52,53,54,55,56,57,58,59,60,61,62,63,64,65,66,67,68,69,70,71,72,73,74,75,76,77,78,79,80,81,82,83,84,85,86,87,88,89,90,91,92,93,94,95,96,97,98,99,100,101,102,103,104,105,106,107,108,109,110,111,112,113,114,115,116,117,118,119,120,121,122,123,124,125,126,127,128,129,130,131) have mixed types. Specify dtype option on import or set low_memory=False.\n",
      "  doc_dataset = pd.read_csv(r'C:\\Users\\acer\\Downloads\\Training.csv', names=['Name', 'Description'])\n"
     ]
    },
    {
     "name": "stdout",
     "output_type": "stream",
     "text": [
      "Doctor Name: nan\n",
      "Doctor Link: nan\n"
     ]
    }
   ],
   "source": [
    "doc_dataset = pd.read_csv(r'C:\\Users\\acer\\Downloads\\Training.csv', names=['Name', 'Description'])\n",
    "\n",
    "diseases = dimensionality_reduction.index\n",
    "doctors = pd.DataFrame({'disease': diseases, 'name': np.nan, 'link': np.nan})\n",
    "\n",
    "for disease in diseases:\n",
    "    record = doc_dataset[doc_dataset['Name'] == disease]\n",
    "    if not record.empty:\n",
    "        doctors.loc[doctors['disease'] == disease, ['name', 'link']] = record.values[0]\n",
    "\n",
    "# Now you can access the information for a specific disease like 'AIDS'\n",
    "record = doctors[doctors['disease'] == 'AIDS']\n",
    "doctor_name = record['name'].values[0]\n",
    "doctor_link = record['link'].values[0]\n",
    "print(\"Doctor Name:\", doctor_name)\n",
    "print(\"Doctor Link:\", doctor_link)"
   ]
  },
  {
   "cell_type": "code",
   "execution_count": 113,
   "id": "3357d272-47fb-481a-bf85-7ac2a296964f",
   "metadata": {},
   "outputs": [],
   "source": [
    "listener = sr.Recognizer() \n",
    "engine = pyttsx3.init()\n",
    "voices = engine.getProperty('voices')\n",
    "engine.setProperty('voice', voices[1].id)"
   ]
  },
  {
   "cell_type": "code",
   "execution_count": 114,
   "id": "d87ae46b-afe2-4b98-8aae-362593f1685d",
   "metadata": {},
   "outputs": [],
   "source": [
    "def talk(text):\n",
    "    engine.say(text)\n",
    "    engine.runAndWait()"
   ]
  },
  {
   "cell_type": "code",
   "execution_count": 115,
   "id": "eae34ad2-648e-45f1-811f-e3a00c6ff7b1",
   "metadata": {},
   "outputs": [],
   "source": [
    "def take_command():\n",
    "    try:\n",
    "        with sr.Microphone() as source:\n",
    "            print('listening...')\n",
    "            voice = listener.listen(source)\n",
    "            command = listener.recognize_google(voice)\n",
    "            command = command.lower()\n",
    "        \n",
    "        if 'alexa' in command:\n",
    "            command = command.replace('alexa', \"\")\n",
    "            print(command)    \n",
    "            \n",
    "    except:\n",
    "      pass  \n",
    "    return command"
   ]
  },
  {
   "cell_type": "code",
   "execution_count": 116,
   "id": "c898b990-794b-40ba-9400-5d0872073b07",
   "metadata": {},
   "outputs": [],
   "source": [
    "def run_alexa():\n",
    "    command = take_command()\n",
    "    print(command)\n",
    "    if 'what' in command:\n",
    "        person = command.replace('what','')\n",
    "        info = wikipedia.summary(person,1)\n",
    "        print(info)\n",
    "        talk(info)\n",
    "    elif 'give more information' in command:\n",
    "        person = command.replace('give more information','')\n",
    "        info = wikipedia.summary(person,1)\n",
    "        print(info)\n",
    "        talk(info)\n",
    "        \n",
    "#    elif 'consult a doctor' in command:\n",
    "#       person = command.replace('consult a doctor','')\n",
    "#       info = (person,\"Dr.Sunil Pathak\")\n",
    "#       print(info)\n",
    "#        talk(info)  \n",
    "        \n",
    "    else:\n",
    "        talk('please say the command again.')"
   ]
  },
  {
   "cell_type": "code",
   "execution_count": 117,
   "id": "828c2021-3d75-4c82-ba9c-c5c0e7588aa7",
   "metadata": {},
   "outputs": [
    {
     "name": "stdout",
     "output_type": "stream",
     "text": [
      "Please reply with yes/Yes or no/No for the following symptoms\n",
      "slurred_speech ?\n"
     ]
    },
    {
     "name": "stdin",
     "output_type": "stream",
     "text": [
      " no\n"
     ]
    },
    {
     "name": "stdout",
     "output_type": "stream",
     "text": [
      "pain_behind_the_eyes ?\n"
     ]
    },
    {
     "name": "stdin",
     "output_type": "stream",
     "text": [
      " no\n"
     ]
    },
    {
     "name": "stdout",
     "output_type": "stream",
     "text": [
      "receiving_blood_transfusion ?\n"
     ]
    },
    {
     "name": "stdin",
     "output_type": "stream",
     "text": [
      " no\n"
     ]
    },
    {
     "name": "stdout",
     "output_type": "stream",
     "text": [
      "red_spots_over_body ?\n"
     ]
    },
    {
     "name": "stdin",
     "output_type": "stream",
     "text": [
      " no\n"
     ]
    },
    {
     "name": "stdout",
     "output_type": "stream",
     "text": [
      "unsteadiness ?\n"
     ]
    },
    {
     "name": "stdin",
     "output_type": "stream",
     "text": [
      " no\n"
     ]
    },
    {
     "name": "stdout",
     "output_type": "stream",
     "text": [
      "rusty_sputum ?\n"
     ]
    },
    {
     "name": "stdin",
     "output_type": "stream",
     "text": [
      " yes\n"
     ]
    },
    {
     "name": "stdout",
     "output_type": "stream",
     "text": [
      "['You may have Pneumonia']\n",
      "\n",
      "symptoms present  ['rusty_sputum']\n",
      "\n",
      "symptoms given ['chills', 'fatigue', 'cough', 'high_fever', 'breathlessness', 'sweating', 'malaise', 'phlegm', 'chest_pain', 'fast_heart_rate', 'rusty_sputum']\n",
      "\n",
      "confidence level is 0.09090909090909091\n",
      "\n",
      "The model suggests:\n",
      "\n"
     ]
    },
    {
     "ename": "IndexError",
     "evalue": "index 1 is out of bounds for axis 0 with size 1",
     "output_type": "error",
     "traceback": [
      "\u001b[1;31m---------------------------------------------------------------------------\u001b[0m",
      "\u001b[1;31mIndexError\u001b[0m                                Traceback (most recent call last)",
      "Cell \u001b[1;32mIn[117], line 2\u001b[0m\n\u001b[0;32m      1\u001b[0m \u001b[38;5;66;03m# Execute the bot and see it in Action\u001b[39;00m\n\u001b[1;32m----> 2\u001b[0m execute_bot()\n",
      "Cell \u001b[1;32mIn[103], line 62\u001b[0m, in \u001b[0;36mexecute_bot\u001b[1;34m()\u001b[0m\n\u001b[0;32m     57\u001b[0m             \u001b[38;5;28mprint\u001b[39m(present_disease[\u001b[38;5;241m0\u001b[39m])\n\u001b[0;32m     60\u001b[0m     recurse(\u001b[38;5;241m0\u001b[39m, \u001b[38;5;241m1\u001b[39m)\n\u001b[1;32m---> 62\u001b[0m tree_to_code(classifier,cols)\n",
      "Cell \u001b[1;32mIn[103], line 60\u001b[0m, in \u001b[0;36mexecute_bot.<locals>.tree_to_code\u001b[1;34m(tree, feature_names)\u001b[0m\n\u001b[0;32m     56\u001b[0m         \u001b[38;5;28mprint\u001b[39m(\u001b[38;5;124m'\u001b[39m\u001b[38;5;124mVisit \u001b[39m\u001b[38;5;124m'\u001b[39m, \u001b[38;5;28mstr\u001b[39m(row[\u001b[38;5;124m'\u001b[39m\u001b[38;5;124mlink\u001b[39m\u001b[38;5;124m'\u001b[39m]\u001b[38;5;241m.\u001b[39mvalues))\n\u001b[0;32m     57\u001b[0m         \u001b[38;5;28mprint\u001b[39m(present_disease[\u001b[38;5;241m0\u001b[39m])\n\u001b[1;32m---> 60\u001b[0m recurse(\u001b[38;5;241m0\u001b[39m, \u001b[38;5;241m1\u001b[39m)\n",
      "Cell \u001b[1;32mIn[103], line 34\u001b[0m, in \u001b[0;36mexecute_bot.<locals>.tree_to_code.<locals>.recurse\u001b[1;34m(node, depth)\u001b[0m\n\u001b[0;32m     32\u001b[0m     val \u001b[38;5;241m=\u001b[39m \u001b[38;5;241m0\u001b[39m\n\u001b[0;32m     33\u001b[0m \u001b[38;5;28;01mif\u001b[39;00m  val \u001b[38;5;241m<\u001b[39m\u001b[38;5;241m=\u001b[39m threshold:\n\u001b[1;32m---> 34\u001b[0m     recurse(tree_\u001b[38;5;241m.\u001b[39mchildren_left[node], depth \u001b[38;5;241m+\u001b[39m \u001b[38;5;241m1\u001b[39m)\n\u001b[0;32m     35\u001b[0m \u001b[38;5;28;01melse\u001b[39;00m:\n\u001b[0;32m     36\u001b[0m     symptoms_present\u001b[38;5;241m.\u001b[39mappend(name)\n",
      "Cell \u001b[1;32mIn[103], line 34\u001b[0m, in \u001b[0;36mexecute_bot.<locals>.tree_to_code.<locals>.recurse\u001b[1;34m(node, depth)\u001b[0m\n\u001b[0;32m     32\u001b[0m     val \u001b[38;5;241m=\u001b[39m \u001b[38;5;241m0\u001b[39m\n\u001b[0;32m     33\u001b[0m \u001b[38;5;28;01mif\u001b[39;00m  val \u001b[38;5;241m<\u001b[39m\u001b[38;5;241m=\u001b[39m threshold:\n\u001b[1;32m---> 34\u001b[0m     recurse(tree_\u001b[38;5;241m.\u001b[39mchildren_left[node], depth \u001b[38;5;241m+\u001b[39m \u001b[38;5;241m1\u001b[39m)\n\u001b[0;32m     35\u001b[0m \u001b[38;5;28;01melse\u001b[39;00m:\n\u001b[0;32m     36\u001b[0m     symptoms_present\u001b[38;5;241m.\u001b[39mappend(name)\n",
      "    \u001b[1;31m[... skipping similar frames: execute_bot.<locals>.tree_to_code.<locals>.recurse at line 34 (2 times)]\u001b[0m\n",
      "Cell \u001b[1;32mIn[103], line 34\u001b[0m, in \u001b[0;36mexecute_bot.<locals>.tree_to_code.<locals>.recurse\u001b[1;34m(node, depth)\u001b[0m\n\u001b[0;32m     32\u001b[0m     val \u001b[38;5;241m=\u001b[39m \u001b[38;5;241m0\u001b[39m\n\u001b[0;32m     33\u001b[0m \u001b[38;5;28;01mif\u001b[39;00m  val \u001b[38;5;241m<\u001b[39m\u001b[38;5;241m=\u001b[39m threshold:\n\u001b[1;32m---> 34\u001b[0m     recurse(tree_\u001b[38;5;241m.\u001b[39mchildren_left[node], depth \u001b[38;5;241m+\u001b[39m \u001b[38;5;241m1\u001b[39m)\n\u001b[0;32m     35\u001b[0m \u001b[38;5;28;01melse\u001b[39;00m:\n\u001b[0;32m     36\u001b[0m     symptoms_present\u001b[38;5;241m.\u001b[39mappend(name)\n",
      "Cell \u001b[1;32mIn[103], line 37\u001b[0m, in \u001b[0;36mexecute_bot.<locals>.tree_to_code.<locals>.recurse\u001b[1;34m(node, depth)\u001b[0m\n\u001b[0;32m     35\u001b[0m     \u001b[38;5;28;01melse\u001b[39;00m:\n\u001b[0;32m     36\u001b[0m         symptoms_present\u001b[38;5;241m.\u001b[39mappend(name)\n\u001b[1;32m---> 37\u001b[0m         recurse(tree_\u001b[38;5;241m.\u001b[39mchildren_right[node], depth \u001b[38;5;241m+\u001b[39m \u001b[38;5;241m1\u001b[39m)\n\u001b[0;32m     38\u001b[0m \u001b[38;5;28;01melse\u001b[39;00m:\n\u001b[0;32m     39\u001b[0m     present_disease \u001b[38;5;241m=\u001b[39m print_disease(tree_\u001b[38;5;241m.\u001b[39mvalue[node])\n",
      "Cell \u001b[1;32mIn[103], line 53\u001b[0m, in \u001b[0;36mexecute_bot.<locals>.tree_to_code.<locals>.recurse\u001b[1;34m(node, depth)\u001b[0m\n\u001b[0;32m     51\u001b[0m \u001b[38;5;28mprint\u001b[39m(\u001b[38;5;124m'\u001b[39m\u001b[38;5;124mThe model suggests:\u001b[39m\u001b[38;5;124m'\u001b[39m)\n\u001b[0;32m     52\u001b[0m \u001b[38;5;28mprint\u001b[39m()\n\u001b[1;32m---> 53\u001b[0m row \u001b[38;5;241m=\u001b[39m doctors[doctors[\u001b[38;5;124m'\u001b[39m\u001b[38;5;124mdisease\u001b[39m\u001b[38;5;124m'\u001b[39m] \u001b[38;5;241m==\u001b[39m present_disease[\u001b[38;5;241m1\u001b[39m]]\n\u001b[0;32m     54\u001b[0m \u001b[38;5;28mprint\u001b[39m(\u001b[38;5;124m'\u001b[39m\u001b[38;5;124mConsult \u001b[39m\u001b[38;5;124m'\u001b[39m, \u001b[38;5;28mstr\u001b[39m(row[\u001b[38;5;124m'\u001b[39m\u001b[38;5;124mname\u001b[39m\u001b[38;5;124m'\u001b[39m]\u001b[38;5;241m.\u001b[39mvalues))\n\u001b[0;32m     55\u001b[0m \u001b[38;5;28mprint\u001b[39m()\n",
      "\u001b[1;31mIndexError\u001b[0m: index 1 is out of bounds for axis 0 with size 1"
     ]
    }
   ],
   "source": [
    "# Execute the bot and see it in Action\n",
    "execute_bot()"
   ]
  },
  {
   "cell_type": "code",
   "execution_count": 62,
   "id": "f32741da-753d-45ef-9755-8f85701775dc",
   "metadata": {},
   "outputs": [
    {
     "name": "stdout",
     "output_type": "stream",
     "text": [
      "listening...\n",
      "what is chickenpox\n",
      "Chickenpox, or chicken pox, also known as varicella, is a highly contagious, vaccine-preventable disease caused by the initial infection with varicella zoster virus (VZV), a member of the herpesvirus family.\n",
      "listening...\n"
     ]
    },
    {
     "ename": "UnboundLocalError",
     "evalue": "cannot access local variable 'command' where it is not associated with a value",
     "output_type": "error",
     "traceback": [
      "\u001b[1;31m---------------------------------------------------------------------------\u001b[0m",
      "\u001b[1;31mUnboundLocalError\u001b[0m                         Traceback (most recent call last)",
      "Cell \u001b[1;32mIn[62], line 2\u001b[0m\n\u001b[0;32m      1\u001b[0m \u001b[38;5;28;01mwhile\u001b[39;00m \u001b[38;5;28;01mTrue\u001b[39;00m:\n\u001b[1;32m----> 2\u001b[0m     run_alexa()\n",
      "Cell \u001b[1;32mIn[60], line 2\u001b[0m, in \u001b[0;36mrun_alexa\u001b[1;34m()\u001b[0m\n\u001b[0;32m      1\u001b[0m \u001b[38;5;28;01mdef\u001b[39;00m \u001b[38;5;21mrun_alexa\u001b[39m():\n\u001b[1;32m----> 2\u001b[0m     command \u001b[38;5;241m=\u001b[39m take_command()\n\u001b[0;32m      3\u001b[0m     \u001b[38;5;28mprint\u001b[39m(command)\n\u001b[0;32m      4\u001b[0m     \u001b[38;5;28;01mif\u001b[39;00m \u001b[38;5;124m'\u001b[39m\u001b[38;5;124mwhat\u001b[39m\u001b[38;5;124m'\u001b[39m \u001b[38;5;129;01min\u001b[39;00m command:\n",
      "Cell \u001b[1;32mIn[59], line 15\u001b[0m, in \u001b[0;36mtake_command\u001b[1;34m()\u001b[0m\n\u001b[0;32m     13\u001b[0m \u001b[38;5;28;01mexcept\u001b[39;00m:\n\u001b[0;32m     14\u001b[0m   \u001b[38;5;28;01mpass\u001b[39;00m  \n\u001b[1;32m---> 15\u001b[0m \u001b[38;5;28;01mreturn\u001b[39;00m command\n",
      "\u001b[1;31mUnboundLocalError\u001b[0m: cannot access local variable 'command' where it is not associated with a value"
     ]
    }
   ],
   "source": [
    "while True:\n",
    "    run_alexa()"
   ]
  },
  {
   "cell_type": "code",
   "execution_count": null,
   "id": "dbdf5ec4-0b74-4fc5-9642-182b5e611400",
   "metadata": {},
   "outputs": [],
   "source": []
  }
 ],
 "metadata": {
  "kernelspec": {
   "display_name": "Python 3 (ipykernel)",
   "language": "python",
   "name": "python3"
  },
  "language_info": {
   "codemirror_mode": {
    "name": "ipython",
    "version": 3
   },
   "file_extension": ".py",
   "mimetype": "text/x-python",
   "name": "python",
   "nbconvert_exporter": "python",
   "pygments_lexer": "ipython3",
   "version": "3.11.7"
  }
 },
 "nbformat": 4,
 "nbformat_minor": 5
}
